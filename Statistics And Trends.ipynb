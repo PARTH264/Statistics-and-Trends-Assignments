{
 "cells": [
  {
   "cell_type": "markdown",
   "id": "408f9379",
   "metadata": {},
   "source": [
    "# Name : Parth Bhalani\n",
    "## Student ID : 23005402"
   ]
  },
  {
   "cell_type": "markdown",
   "id": "36617ab5",
   "metadata": {},
   "source": [
    "Dive into the \"1500 North American Restaurants Comprehensive Dataset,\" featuring a rich selection of dining establishments from cozy local eateries to renowned culinary destinations. This meticulously curated collection spans a diverse range of cuisines, dining experiences, and geographical locations across North America. Each entry encapsulates key details such as cuisine types, service options, and customer ratings, making it an indispensable resource for food enthusiasts, researchers, and industry analysts seeking insights into the continent's vibrant restaurant scene.\n",
    "\n",
    "Column Descriptions:\n",
    "\n",
    "###### name: The name of the restaurant.\n",
    "###### city: The city where the restaurant is located.\n",
    "###### state: The state or province where the restaurant is located.\n",
    "###### zipcode: The postal code of the restaurant.\n",
    "###### country: The country of the restaurant (US or CA).\n",
    "###### cuisines: The types of cuisines offered by the restaurant.\n",
    "###### pickup_enabled: Indicates if pickup service is available (TRUE or FALSE).\n",
    "###### delivery_enabled: Indicates if delivery service is available (TRUE or FALSE).\n",
    "###### weighted_rating_value: The average rating of the restaurant on a scale from 0 to 5.\n",
    "###### aggregated_rating_count: The total number of ratings the restaurant has received.\n",
    "\n",
    "Dive into this dataset for captivating data visualizations mapping North America's culinary landscape, NLP-driven sentiment analysis on cuisine types, and machine learning models predicting restaurant success. It's perfect for enthusiasts keen on uncovering trends through viz, extracting insights via NLP, or enhancing recommendation systems with predictive analytics. A playground for data science exploration!\n"
   ]
  },
  {
   "cell_type": "code",
   "execution_count": 17,
   "id": "83ead1b2",
   "metadata": {},
   "outputs": [],
   "source": [
    "# Import necessary libraries\n",
    "import pandas as pd\n",
    "import numpy as np \n",
    "import matplotlib.pyplot as plt\n",
    "%matplotlib inline\n"
   ]
  },
  {
   "cell_type": "code",
   "execution_count": 18,
   "id": "19b66149",
   "metadata": {},
   "outputs": [
    {
     "data": {
      "text/html": [
       "<div>\n",
       "<style scoped>\n",
       "    .dataframe tbody tr th:only-of-type {\n",
       "        vertical-align: middle;\n",
       "    }\n",
       "\n",
       "    .dataframe tbody tr th {\n",
       "        vertical-align: top;\n",
       "    }\n",
       "\n",
       "    .dataframe thead th {\n",
       "        text-align: right;\n",
       "    }\n",
       "</style>\n",
       "<table border=\"1\" class=\"dataframe\">\n",
       "  <thead>\n",
       "    <tr style=\"text-align: right;\">\n",
       "      <th></th>\n",
       "      <th>name</th>\n",
       "      <th>city</th>\n",
       "      <th>state</th>\n",
       "      <th>zipcode</th>\n",
       "      <th>country</th>\n",
       "      <th>cuisines</th>\n",
       "      <th>pickup_enabled</th>\n",
       "      <th>delivery_enabled</th>\n",
       "      <th>weighted_rating_value</th>\n",
       "      <th>aggregated_rating_count</th>\n",
       "    </tr>\n",
       "  </thead>\n",
       "  <tbody>\n",
       "    <tr>\n",
       "      <th>0</th>\n",
       "      <td>Burger King</td>\n",
       "      <td>Manitowoc</td>\n",
       "      <td>WI</td>\n",
       "      <td>54220</td>\n",
       "      <td>US</td>\n",
       "      <td>American, Burger, Burgers, Family Meals, Fast ...</td>\n",
       "      <td>True</td>\n",
       "      <td>True</td>\n",
       "      <td>2.4</td>\n",
       "      <td>42</td>\n",
       "    </tr>\n",
       "    <tr>\n",
       "      <th>1</th>\n",
       "      <td>Petro-Canada</td>\n",
       "      <td>Airdrie</td>\n",
       "      <td>AB</td>\n",
       "      <td>T4A</td>\n",
       "      <td>CA</td>\n",
       "      <td>Ben &amp; Jerry's, Café/Thé, Coffee/Tea, Convenien...</td>\n",
       "      <td>True</td>\n",
       "      <td>True</td>\n",
       "      <td>4.1</td>\n",
       "      <td>1</td>\n",
       "    </tr>\n",
       "    <tr>\n",
       "      <th>2</th>\n",
       "      <td>Boba Bae</td>\n",
       "      <td>Ashwaubenon</td>\n",
       "      <td>WI</td>\n",
       "      <td>54304</td>\n",
       "      <td>US</td>\n",
       "      <td>American, Asian Food, Bubble Tea, Coffee &amp; Tea...</td>\n",
       "      <td>True</td>\n",
       "      <td>True</td>\n",
       "      <td>4.0</td>\n",
       "      <td>88</td>\n",
       "    </tr>\n",
       "    <tr>\n",
       "      <th>3</th>\n",
       "      <td>1001 Nights Shawarma</td>\n",
       "      <td>Kitchener</td>\n",
       "      <td>ON</td>\n",
       "      <td>N2C</td>\n",
       "      <td>CA</td>\n",
       "      <td>Beau, Bon, Local, Chicken, Dessert, Desserts, ...</td>\n",
       "      <td>True</td>\n",
       "      <td>True</td>\n",
       "      <td>4.6</td>\n",
       "      <td>1077</td>\n",
       "    </tr>\n",
       "    <tr>\n",
       "      <th>4</th>\n",
       "      <td>Chirpyhut Fried Chicken (JlgJ)</td>\n",
       "      <td>Richmond</td>\n",
       "      <td>BC</td>\n",
       "      <td>V6X 2B8</td>\n",
       "      <td>CA</td>\n",
       "      <td>Ailes, Allergy Friendly, American, Beau, Bon, ...</td>\n",
       "      <td>True</td>\n",
       "      <td>True</td>\n",
       "      <td>4.6</td>\n",
       "      <td>30</td>\n",
       "    </tr>\n",
       "  </tbody>\n",
       "</table>\n",
       "</div>"
      ],
      "text/plain": [
       "                             name         city state  zipcode country  \\\n",
       "0                     Burger King    Manitowoc    WI    54220      US   \n",
       "1                    Petro-Canada      Airdrie    AB      T4A      CA   \n",
       "2                        Boba Bae  Ashwaubenon    WI    54304      US   \n",
       "3            1001 Nights Shawarma    Kitchener    ON      N2C      CA   \n",
       "4  Chirpyhut Fried Chicken (JlgJ)     Richmond    BC  V6X 2B8      CA   \n",
       "\n",
       "                                            cuisines  pickup_enabled  \\\n",
       "0  American, Burger, Burgers, Family Meals, Fast ...            True   \n",
       "1  Ben & Jerry's, Café/Thé, Coffee/Tea, Convenien...            True   \n",
       "2  American, Asian Food, Bubble Tea, Coffee & Tea...            True   \n",
       "3  Beau, Bon, Local, Chicken, Dessert, Desserts, ...            True   \n",
       "4  Ailes, Allergy Friendly, American, Beau, Bon, ...            True   \n",
       "\n",
       "   delivery_enabled  weighted_rating_value  aggregated_rating_count  \n",
       "0              True                    2.4                       42  \n",
       "1              True                    4.1                        1  \n",
       "2              True                    4.0                       88  \n",
       "3              True                    4.6                     1077  \n",
       "4              True                    4.6                       30  "
      ]
     },
     "execution_count": 18,
     "metadata": {},
     "output_type": "execute_result"
    }
   ],
   "source": [
    "# load North America Restaurants data using pandas and store into the df dataframe \n",
    "df = pd.read_csv(\"Data/North America Restaurants.csv\")\n",
    "df.head()                                             # print the first 5 rows of data"
   ]
  },
  {
   "cell_type": "code",
   "execution_count": 19,
   "id": "7403138d",
   "metadata": {},
   "outputs": [
    {
     "name": "stdout",
     "output_type": "stream",
     "text": [
      "<class 'pandas.core.frame.DataFrame'>\n",
      "RangeIndex: 1500 entries, 0 to 1499\n",
      "Data columns (total 10 columns):\n",
      " #   Column                   Non-Null Count  Dtype  \n",
      "---  ------                   --------------  -----  \n",
      " 0   name                     1500 non-null   object \n",
      " 1   city                     1500 non-null   object \n",
      " 2   state                    1500 non-null   object \n",
      " 3   zipcode                  1500 non-null   object \n",
      " 4   country                  1500 non-null   object \n",
      " 5   cuisines                 1499 non-null   object \n",
      " 6   pickup_enabled           1500 non-null   bool   \n",
      " 7   delivery_enabled         1500 non-null   bool   \n",
      " 8   weighted_rating_value    1500 non-null   float64\n",
      " 9   aggregated_rating_count  1500 non-null   int64  \n",
      "dtypes: bool(2), float64(1), int64(1), object(6)\n",
      "memory usage: 96.8+ KB\n"
     ]
    }
   ],
   "source": [
    "# First we see information about the dataset\n",
    "df.info()        "
   ]
  },
  {
   "cell_type": "markdown",
   "id": "71c377f3",
   "metadata": {},
   "source": [
    "#### oberservation : There are 4 types of data in the datasets. There are 10 columns and 1500 rows."
   ]
  },
  {
   "cell_type": "code",
   "execution_count": 20,
   "id": "b471e961",
   "metadata": {},
   "outputs": [
    {
     "data": {
      "text/html": [
       "<div>\n",
       "<style scoped>\n",
       "    .dataframe tbody tr th:only-of-type {\n",
       "        vertical-align: middle;\n",
       "    }\n",
       "\n",
       "    .dataframe tbody tr th {\n",
       "        vertical-align: top;\n",
       "    }\n",
       "\n",
       "    .dataframe thead th {\n",
       "        text-align: right;\n",
       "    }\n",
       "</style>\n",
       "<table border=\"1\" class=\"dataframe\">\n",
       "  <thead>\n",
       "    <tr style=\"text-align: right;\">\n",
       "      <th></th>\n",
       "      <th>count</th>\n",
       "      <th>mean</th>\n",
       "      <th>std</th>\n",
       "      <th>min</th>\n",
       "      <th>25%</th>\n",
       "      <th>50%</th>\n",
       "      <th>75%</th>\n",
       "      <th>max</th>\n",
       "    </tr>\n",
       "  </thead>\n",
       "  <tbody>\n",
       "    <tr>\n",
       "      <th>weighted_rating_value</th>\n",
       "      <td>1500.0</td>\n",
       "      <td>3.724533</td>\n",
       "      <td>0.989005</td>\n",
       "      <td>1.0</td>\n",
       "      <td>2.9</td>\n",
       "      <td>4.1</td>\n",
       "      <td>4.6</td>\n",
       "      <td>5.0</td>\n",
       "    </tr>\n",
       "    <tr>\n",
       "      <th>aggregated_rating_count</th>\n",
       "      <td>1500.0</td>\n",
       "      <td>85.500667</td>\n",
       "      <td>277.071136</td>\n",
       "      <td>1.0</td>\n",
       "      <td>5.0</td>\n",
       "      <td>25.0</td>\n",
       "      <td>68.0</td>\n",
       "      <td>4211.0</td>\n",
       "    </tr>\n",
       "  </tbody>\n",
       "</table>\n",
       "</div>"
      ],
      "text/plain": [
       "                          count       mean         std  min  25%   50%   75%  \\\n",
       "weighted_rating_value    1500.0   3.724533    0.989005  1.0  2.9   4.1   4.6   \n",
       "aggregated_rating_count  1500.0  85.500667  277.071136  1.0  5.0  25.0  68.0   \n",
       "\n",
       "                            max  \n",
       "weighted_rating_value       5.0  \n",
       "aggregated_rating_count  4211.0  "
      ]
     },
     "execution_count": 20,
     "metadata": {},
     "output_type": "execute_result"
    }
   ],
   "source": [
    "# Now we do some basic statistics \n",
    "df.describe().T   # T-Transposre the data"
   ]
  },
  {
   "cell_type": "markdown",
   "id": "9a4c9fc2",
   "metadata": {},
   "source": [
    "#### oberservation : The minimum and maximum weighted_rating_value is 1.0 and 5.0 respectively. The minimum and maximum aggregated_rating_count is 1.0 and 4211.0 respectively."
   ]
  },
  {
   "cell_type": "code",
   "execution_count": 21,
   "id": "c8c14371",
   "metadata": {},
   "outputs": [
    {
     "data": {
      "text/plain": [
       "name                       0\n",
       "city                       0\n",
       "state                      0\n",
       "zipcode                    0\n",
       "country                    0\n",
       "cuisines                   1\n",
       "pickup_enabled             0\n",
       "delivery_enabled           0\n",
       "weighted_rating_value      0\n",
       "aggregated_rating_count    0\n",
       "dtype: int64"
      ]
     },
     "execution_count": 21,
     "metadata": {},
     "output_type": "execute_result"
    }
   ],
   "source": [
    "# checking for the missing value\n",
    "df.isnull().sum()  # provide the total number of missing value"
   ]
  },
  {
   "cell_type": "markdown",
   "id": "38d48499",
   "metadata": {},
   "source": [
    "##### obersevation : only 1 missing value there in cuisines columns"
   ]
  },
  {
   "cell_type": "code",
   "execution_count": 24,
   "id": "7c765821",
   "metadata": {},
   "outputs": [
    {
     "data": {
      "text/plain": [
       "['cuisines']"
      ]
     },
     "execution_count": 24,
     "metadata": {},
     "output_type": "execute_result"
    }
   ],
   "source": [
    "# second method for find the missing value\n",
    "[features for features in df.columns if df[features].isnull().sum()>0]"
   ]
  },
  {
   "cell_type": "code",
   "execution_count": 37,
   "id": "313bafae",
   "metadata": {},
   "outputs": [
    {
     "data": {
      "text/html": [
       "<div>\n",
       "<style scoped>\n",
       "    .dataframe tbody tr th:only-of-type {\n",
       "        vertical-align: middle;\n",
       "    }\n",
       "\n",
       "    .dataframe tbody tr th {\n",
       "        vertical-align: top;\n",
       "    }\n",
       "\n",
       "    .dataframe thead th {\n",
       "        text-align: right;\n",
       "    }\n",
       "</style>\n",
       "<table border=\"1\" class=\"dataframe\">\n",
       "  <thead>\n",
       "    <tr style=\"text-align: right;\">\n",
       "      <th></th>\n",
       "      <th>name</th>\n",
       "      <th>city</th>\n",
       "      <th>state</th>\n",
       "      <th>zipcode</th>\n",
       "      <th>country</th>\n",
       "      <th>cuisines</th>\n",
       "      <th>pickup_enabled</th>\n",
       "      <th>delivery_enabled</th>\n",
       "      <th>weighted_rating_value</th>\n",
       "      <th>aggregated_rating_count</th>\n",
       "    </tr>\n",
       "  </thead>\n",
       "  <tbody>\n",
       "    <tr>\n",
       "      <th>633</th>\n",
       "      <td>All You Need</td>\n",
       "      <td>Sunny Isles Beach</td>\n",
       "      <td>FL</td>\n",
       "      <td>33160</td>\n",
       "      <td>US</td>\n",
       "      <td>NaN</td>\n",
       "      <td>True</td>\n",
       "      <td>True</td>\n",
       "      <td>2.5</td>\n",
       "      <td>2</td>\n",
       "    </tr>\n",
       "  </tbody>\n",
       "</table>\n",
       "</div>"
      ],
      "text/plain": [
       "             name               city state zipcode country cuisines  \\\n",
       "633  All You Need  Sunny Isles Beach    FL   33160      US      NaN   \n",
       "\n",
       "     pickup_enabled  delivery_enabled  weighted_rating_value  \\\n",
       "633            True              True                    2.5   \n",
       "\n",
       "     aggregated_rating_count  \n",
       "633                        2  "
      ]
     },
     "execution_count": 37,
     "metadata": {},
     "output_type": "execute_result"
    }
   ],
   "source": [
    "# let's see which one is missing \n",
    "df[df['cuisines'].isnull()]"
   ]
  },
  {
   "cell_type": "code",
   "execution_count": 41,
   "id": "8f82246a",
   "metadata": {},
   "outputs": [
    {
     "data": {
      "text/plain": [
       "array(['US', 'CA'], dtype=object)"
      ]
     },
     "execution_count": 41,
     "metadata": {},
     "output_type": "execute_result"
    }
   ],
   "source": [
    "# oberservation : There is only one missing value in the above datasets so we can do the delete specific raw from the datasets"
   ]
  },
  {
   "cell_type": "code",
   "execution_count": 45,
   "id": "8e9e7886",
   "metadata": {},
   "outputs": [],
   "source": [
    "# we drop the raw with missing value \n",
    "df.dropna(inplace = True)  # inplace = True means changes in the main df dataframe"
   ]
  },
  {
   "cell_type": "code",
   "execution_count": 46,
   "id": "b8511b28",
   "metadata": {},
   "outputs": [
    {
     "data": {
      "text/plain": [
       "name                       0\n",
       "city                       0\n",
       "state                      0\n",
       "zipcode                    0\n",
       "country                    0\n",
       "cuisines                   0\n",
       "pickup_enabled             0\n",
       "delivery_enabled           0\n",
       "weighted_rating_value      0\n",
       "aggregated_rating_count    0\n",
       "dtype: int64"
      ]
     },
     "execution_count": 46,
     "metadata": {},
     "output_type": "execute_result"
    }
   ],
   "source": [
    "# let's check again for missing value\n",
    "df.isnull().sum()"
   ]
  },
  {
   "cell_type": "code",
   "execution_count": 80,
   "id": "99b03251",
   "metadata": {},
   "outputs": [],
   "source": [
    "# Statistical Depth"
   ]
  },
  {
   "cell_type": "code",
   "execution_count": null,
   "id": "dd450867",
   "metadata": {},
   "outputs": [],
   "source": [
    "# we calculate the mean, median, mode, variance and standard deviation "
   ]
  },
  {
   "cell_type": "code",
   "execution_count": 100,
   "id": "4386ef6e",
   "metadata": {},
   "outputs": [],
   "source": [
    "def statistical(df):\n",
    "    print('mean of the numerical data df.mean()',df.mean()),\n",
    "    print(df.mean())\n",
    "    \n",
    "    \n",
    "\n",
    "    return statistics"
   ]
  },
  {
   "cell_type": "code",
   "execution_count": 101,
   "id": "a19be272",
   "metadata": {},
   "outputs": [
    {
     "name": "stdout",
     "output_type": "stream",
     "text": [
      "mean of the numerical data df.mean() pickup_enabled              0.772515\n",
      "delivery_enabled            1.000000\n",
      "weighted_rating_value       3.725350\n",
      "aggregated_rating_count    85.556371\n",
      "dtype: float64\n",
      "pickup_enabled              0.772515\n",
      "delivery_enabled            1.000000\n",
      "weighted_rating_value       3.725350\n",
      "aggregated_rating_count    85.556371\n",
      "dtype: float64\n"
     ]
    },
    {
     "name": "stderr",
     "output_type": "stream",
     "text": [
      "C:\\Users\\91951\\AppData\\Local\\Temp\\ipykernel_3472\\1390080268.py:2: FutureWarning: The default value of numeric_only in DataFrame.mean is deprecated. In a future version, it will default to False. In addition, specifying 'numeric_only=None' is deprecated. Select only valid columns or specify the value of numeric_only to silence this warning.\n",
      "  print('mean of the numerical data df.mean()',df.mean()),\n",
      "C:\\Users\\91951\\AppData\\Local\\Temp\\ipykernel_3472\\1390080268.py:3: FutureWarning: The default value of numeric_only in DataFrame.mean is deprecated. In a future version, it will default to False. In addition, specifying 'numeric_only=None' is deprecated. Select only valid columns or specify the value of numeric_only to silence this warning.\n",
      "  print(df.mean())\n"
     ]
    },
    {
     "ename": "NameError",
     "evalue": "name 'statistics' is not defined",
     "output_type": "error",
     "traceback": [
      "\u001b[1;31m---------------------------------------------------------------------------\u001b[0m",
      "\u001b[1;31mNameError\u001b[0m                                 Traceback (most recent call last)",
      "Cell \u001b[1;32mIn[101], line 1\u001b[0m\n\u001b[1;32m----> 1\u001b[0m statistical(df)\n",
      "Cell \u001b[1;32mIn[100], line 7\u001b[0m, in \u001b[0;36mstatistical\u001b[1;34m(df)\u001b[0m\n\u001b[0;32m      2\u001b[0m \u001b[38;5;28mprint\u001b[39m(\u001b[38;5;124m'\u001b[39m\u001b[38;5;124mmean of the numerical data df.mean()\u001b[39m\u001b[38;5;124m'\u001b[39m,df\u001b[38;5;241m.\u001b[39mmean()),\n\u001b[0;32m      3\u001b[0m \u001b[38;5;28mprint\u001b[39m(df\u001b[38;5;241m.\u001b[39mmean())\n\u001b[1;32m----> 7\u001b[0m \u001b[38;5;28;01mreturn\u001b[39;00m statistics\n",
      "\u001b[1;31mNameError\u001b[0m: name 'statistics' is not defined"
     ]
    }
   ],
   "source": [
    "statistical(df)"
   ]
  },
  {
   "cell_type": "code",
   "execution_count": null,
   "id": "acc8ae45",
   "metadata": {},
   "outputs": [],
   "source": []
  },
  {
   "cell_type": "code",
   "execution_count": null,
   "id": "c969e3d1",
   "metadata": {},
   "outputs": [],
   "source": []
  },
  {
   "cell_type": "code",
   "execution_count": null,
   "id": "457b55bc",
   "metadata": {},
   "outputs": [],
   "source": []
  },
  {
   "cell_type": "markdown",
   "id": "7d1e0d94",
   "metadata": {},
   "source": [
    "##### There is no missing values so data is prepare for the visualization "
   ]
  },
  {
   "cell_type": "markdown",
   "id": "636fb833",
   "metadata": {},
   "source": [
    "# 1. Pie Chart"
   ]
  },
  {
   "cell_type": "markdown",
   "id": "ac627c62",
   "metadata": {},
   "source": [
    "### ## Create a pie chart for top 5 cities distribution"
   ]
  },
  {
   "cell_type": "code",
   "execution_count": 78,
   "id": "e5110975",
   "metadata": {},
   "outputs": [],
   "source": [
    "def plot_cities_pie(df):\n",
    "    \"\"\"\n",
    "    Creates a pie chart of the Top 5 cities distribution of Restaurant \n",
    "    \"\"\"\n",
    "    plt.figure(dpi=144)\n",
    "    city_values=df.city.value_counts().values\n",
    "    city_labels=df.city.value_counts().index\n",
    "    \n",
    "    plt.pie(city_values[:5],labels=city_labels[:5],autopct='%1.2f%%',startangle=0)\n",
    "    plt.title('Top 5 Cities distribution of Restaurant')\n",
    "    plt.axis('Equal')\n",
    "    plt.show()\n",
    "    return"
   ]
  },
  {
   "cell_type": "code",
   "execution_count": 79,
   "id": "f3b370a6",
   "metadata": {},
   "outputs": [
    {
     "data": {
      "image/png": "[encoded data removed]",
      "text/plain": [
       "<Figure size 921.6x691.2 with 1 Axes>"
      ]
     },
     "metadata": {},
     "output_type": "display_data"
    }
   ],
   "source": [
    "plot_cities_pie(df)"
   ]
  },
  {
   "cell_type": "code",
   "execution_count": null,
   "id": "30b78b49",
   "metadata": {},
   "outputs": [],
   "source": []
  },
  {
   "cell_type": "code",
   "execution_count": null,
   "id": "483da2ca",
   "metadata": {},
   "outputs": [],
   "source": []
  }
 ],
 "metadata": {
  "kernelspec": {
   "display_name": "Python 3 (ipykernel)",
   "language": "python",
   "name": "python3"
  },
  "language_info": {
   "codemirror_mode": {
    "name": "ipython",
    "version": 3
   },
   "file_extension": ".py",
   "mimetype": "text/x-python",
   "name": "python",
   "nbconvert_exporter": "python",
   "pygments_lexer": "ipython3",
   "version": "3.11.4"
  }
 },
 "nbformat": 4,
 "nbformat_minor": 5
}
